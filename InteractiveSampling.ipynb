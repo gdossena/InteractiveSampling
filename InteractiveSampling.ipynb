{
 "cells": [
  {
   "cell_type": "code",
   "execution_count": 4,
   "metadata": {
    "collapsed": false
   },
   "outputs": [
    {
     "data": {
      "image/png": "[encoded data removed]",
      "text/plain": [
       "<matplotlib.figure.Figure at 0x110d95ba8>"
      ]
     },
     "metadata": {},
     "output_type": "display_data"
    }
   ],
   "source": [
    "%matplotlib inline\n",
    "\n",
    "import matplotlib.pyplot as plt\n",
    "from scipy.stats import norm\n",
    "import numpy as np\n",
    "from ipywidgets import *\n",
    "from IPython.display import display, clear_output\n",
    "\n",
    "# Set size of data\n",
    "n = 200\n",
    "\n",
    "# Set number of bins\n",
    "bin_num = 15\n",
    "\n",
    "# Set standard deviation range\n",
    "sigma_min = 0.5\n",
    "sigma_max = 1.5\n",
    "stepsize = 0.1\n",
    "\n",
    "# Compute size of range of sigma\n",
    "sigma_num = int((sigma_max - sigma_min)/stepsize)\n",
    "\n",
    "# Create figure\n",
    "fig, ax = plt.subplots(figsize=(8,6))\n",
    "\n",
    "# Set range of x values\n",
    "x = np.arange(-4, 4, 0.01)\n",
    "\n",
    "# Create sample data for each value of sigma\n",
    "sample_list = [np.random.normal(0, s, n) for s in np.arange(sigma_min, sigma_max+stepsize, stepsize)]\n",
    "xmin_list = list(map(lambda x: min(x), sample_list))\n",
    "xmax_list = list(map(lambda x: max(x), sample_list))\n",
    "xlength_list = list(map(lambda x, y: y - x, xmin_list, xmax_list))\n",
    "binwidth_list = list(map(lambda x: x/bin_num, xlength_list))\n",
    "bins_list = list(map(lambda x, y, z: np.arange(x, y, z), xmin_list, xmax_list, binwidth_list))\n",
    "\n",
    "# Create button and progress bar\n",
    "button = widgets.Button(description=\"Click me to sample\")\n",
    "progress = IntProgress(min=0, max=100, step=1)\n",
    "\n",
    "sample = 0\n",
    "# Code for sampling animation\n",
    "def on_button_clicked(b):\n",
    "    sigma = w.kwargs['sigma']\n",
    "    indx = int((sigma - sigma_min)/stepsize)\n",
    "    sample = sample_list[indx]\n",
    "    bins = bins_list[indx]\n",
    "    for i in range(5, n+1, 5):\n",
    "        clear_output(wait=True)\n",
    "        plt.figure(figsize=(8,6))\n",
    "        plt.hist(sample[:i], bins=bins, weights=[1/(n*binwidth_list[indx])]*i, color='#1f77b4', alpha=0.7)\n",
    "        plt.plot(x,norm.pdf(x, 0, sigma), color='darkorange', lw=3, alpha=0.7)\n",
    "        plt.axis([-4, 4, 0, 1])\n",
    "        plt.title('Normal distribution', fontsize=16)\n",
    "        progress.value=int(i/n*100)\n",
    "        if i == n:\n",
    "            progress.bar_style='success'\n",
    "        else:\n",
    "            progress.bar_style='danger'\n",
    "        plt.show()\n",
    "\n",
    "# Code for interactive Gaussian distribution curve\n",
    "def plot_gaussian(sigma):\n",
    "    indx = int((sigma - sigma_min)/stepsize)\n",
    "    plt.close()\n",
    "    plt.figure(figsize=(8,6))\n",
    "    plt.plot(x,norm.pdf(x, 0, sigma), color='darkorange', lw=3, alpha=0.7)\n",
    "    plt.axis([-4, 4, 0, 1])\n",
    "    plt.title('Normal distribution', fontsize=16)\n",
    "\n",
    "# Button activation\n",
    "button.on_click(on_button_clicked)\n",
    "\n",
    "# Put button and progress bar side by side\n",
    "hor = HBox(children=(button, progress))\n",
    "\n",
    "# Interaction activation \n",
    "w = interactive(plot_gaussian, sigma=FloatSlider(description='$\\sigma$', min=sigma_min, max=sigma_max, value=1, readout_format='.1f'), continuous_update=False)\n",
    "display(w, hor)"
   ]
  }
 ],
 "metadata": {
  "anaconda-cloud": {},
  "kernelspec": {
   "display_name": "Python [default]",
   "language": "python",
   "name": "python3"
  },
  "language_info": {
   "codemirror_mode": {
    "name": "ipython",
    "version": 3
   },
   "file_extension": ".py",
   "mimetype": "text/x-python",
   "name": "python",
   "nbconvert_exporter": "python",
   "pygments_lexer": "ipython3",
   "version": "3.5.2"
  },
  "widgets": {
   "state": {
    "6d403e9bc6744a3d9c6938e25dcd5734": {
     "views": [
      {
       "cell_index": 0
      }
     ]
    },
    "7cb62a0038af464ca789e903b3d67600": {
     "views": [
      {
       "cell_index": 0
      }
     ]
    },
    "b90293e46dd640799e664c6aee43856b": {
     "views": [
      {
       "cell_index": 0
      }
     ]
    },
    "dd965b35993b496095caefec77e965a5": {
     "views": [
      {
       "cell_index": 0
      }
     ]
    }
   },
   "version": "1.2.0"
  }
 },
 "nbformat": 4,
 "nbformat_minor": 1
}
